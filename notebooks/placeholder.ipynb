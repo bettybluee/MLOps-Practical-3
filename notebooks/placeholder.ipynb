{
 "cells": [
  {
   "cell_type": "markdown",
   "id": "635490ef",
   "metadata": {},
   "source": [
    "These should really only be reserved for plotting, and trimmed down using e.g. `jupytext`."
   ]
  },
  {
   "cell_type": "code",
   "execution_count": null,
   "id": "ddbc4af8",
   "metadata": {},
   "outputs": [],
   "source": [
    "print(\"hello world\")"
   ]
  }
 ],
 "metadata": {
  "language_info": {
   "name": "python"
  }
 },
 "nbformat": 4,
 "nbformat_minor": 5
}
